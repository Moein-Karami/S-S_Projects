{
 "cells": [
  {
   "cell_type": "markdown",
   "metadata": {
    "id": "ZsCcE6upoVB9"
   },
   "source": [
    "# Signal and Systems Fall 1400\n",
    "## Python Tuturial - NumPy , Matplotlib , Scipy\n",
    "* Prepared by : Shayan Vassef\n",
    "* Email : sh.vassef@ut.ac.ir\n",
    "\n",
    "![Python](https://drive.google.com/uc?export=view&id=1Rhyh-TU_iUGeCvIHDrOjFZDLdMgAP5DZ)"
   ]
  },
  {
   "cell_type": "markdown",
   "metadata": {
    "id": "SmE-3j12vkUD"
   },
   "source": [
    "#<font color='blue'>Numpy</font>"
   ]
  },
  {
   "cell_type": "markdown",
   "metadata": {
    "id": "YEZsx5_-rIyD"
   },
   "source": [
    "## Numpy Installation "
   ]
  },
  {
   "cell_type": "markdown",
   "metadata": {
    "id": "xg4htisCrNZC"
   },
   "source": [
    " If you have Anaconda, install NumPy by going to your terminal or command prompt and typing:\n",
    "\n",
    "<font color='red'>conda install numpy</font>"
   ]
  },
  {
   "cell_type": "markdown",
   "metadata": {
    "id": "fBrTZM7xrSIK"
   },
   "source": [
    " You can also employ the pip method to install or update your desire library:\n",
    " \n",
    "<font color='red'>pip install numpy</font>"
   ]
  },
  {
   "cell_type": "markdown",
   "metadata": {
    "id": "ThwozSfOrZb0"
   },
   "source": [
    "## Numpy Importing"
   ]
  },
  {
   "cell_type": "code",
   "execution_count": 44,
   "metadata": {
    "id": "vrOkPb2_oXTf"
   },
   "outputs": [],
   "source": [
    "import numpy as np"
   ]
  },
  {
   "cell_type": "markdown",
   "metadata": {
    "id": "CJ6f0_lRrm6D"
   },
   "source": [
    "### <font color='green'>NumPy Arrays</font>\n",
    "**arrays and lists are easily convertible**"
   ]
  },
  {
   "cell_type": "code",
   "execution_count": 45,
   "metadata": {
    "colab": {
     "base_uri": "https://localhost:8080/"
    },
    "id": "V6eOcIySrfOq",
    "outputId": "04da68fd-a025-46fa-b9c0-70c4afdfd41f"
   },
   "outputs": [
    {
     "data": {
      "text/plain": [
       "array([1, 2, 3])"
      ]
     },
     "execution_count": 45,
     "metadata": {},
     "output_type": "execute_result"
    }
   ],
   "source": [
    "my_list = [1,2,3]\n",
    "my_array = np.array([1,2,3])\n",
    "my_array"
   ]
  },
  {
   "cell_type": "markdown",
   "metadata": {
    "id": "LSYFeqFdsAIl"
   },
   "source": [
    "### <font color='green'>Built-in Methods</font>\n",
    "### arange"
   ]
  },
  {
   "cell_type": "code",
   "execution_count": 46,
   "metadata": {
    "colab": {
     "base_uri": "https://localhost:8080/"
    },
    "id": "9xW6aqMOrfRa",
    "outputId": "2b025b47-1d61-4c10-9a41-2df6b2693d89"
   },
   "outputs": [
    {
     "data": {
      "text/plain": [
       "array([0, 1, 2, 3, 4, 5, 6, 7, 8, 9])"
      ]
     },
     "execution_count": 46,
     "metadata": {},
     "output_type": "execute_result"
    }
   ],
   "source": [
    "np.arange(0,10,1)"
   ]
  },
  {
   "cell_type": "code",
   "execution_count": 47,
   "metadata": {
    "colab": {
     "base_uri": "https://localhost:8080/"
    },
    "id": "1QVMAcRnrfZT",
    "outputId": "6d2ae4f2-3748-48f4-c050-f77e95b67482"
   },
   "outputs": [
    {
     "data": {
      "text/plain": [
       "array([0, 2, 4, 6, 8])"
      ]
     },
     "execution_count": 47,
     "metadata": {},
     "output_type": "execute_result"
    }
   ],
   "source": [
    "np.arange(0,10,2)"
   ]
  },
  {
   "cell_type": "markdown",
   "metadata": {
    "id": "sf7bPnHFsOC7"
   },
   "source": [
    "### zeros and ones"
   ]
  },
  {
   "cell_type": "code",
   "execution_count": 48,
   "metadata": {
    "colab": {
     "base_uri": "https://localhost:8080/"
    },
    "id": "ko4hnGTXrfb7",
    "outputId": "483739f8-0894-4b13-dd4f-502dcb2bee55"
   },
   "outputs": [
    {
     "data": {
      "text/plain": [
       "array([0., 0., 0., 0., 0.])"
      ]
     },
     "execution_count": 48,
     "metadata": {},
     "output_type": "execute_result"
    }
   ],
   "source": [
    "np.zeros(5)"
   ]
  },
  {
   "cell_type": "code",
   "execution_count": 49,
   "metadata": {
    "colab": {
     "base_uri": "https://localhost:8080/"
    },
    "id": "XpO__9wArfef",
    "outputId": "6469bedc-df4d-49bc-c0ac-f37b482fa02e"
   },
   "outputs": [
    {
     "data": {
      "text/plain": [
       "array([[0., 0., 0., 0., 0.],\n",
       "       [0., 0., 0., 0., 0.],\n",
       "       [0., 0., 0., 0., 0.],\n",
       "       [0., 0., 0., 0., 0.],\n",
       "       [0., 0., 0., 0., 0.]])"
      ]
     },
     "execution_count": 49,
     "metadata": {},
     "output_type": "execute_result"
    }
   ],
   "source": [
    "np.zeros((5,5))"
   ]
  },
  {
   "cell_type": "code",
   "execution_count": 50,
   "metadata": {
    "colab": {
     "base_uri": "https://localhost:8080/"
    },
    "id": "-brBB30Vrfg7",
    "outputId": "c0bf0c85-de55-48f6-e7c9-877581dd187f"
   },
   "outputs": [
    {
     "data": {
      "text/plain": [
       "array([[1., 1., 1., 1., 1.],\n",
       "       [1., 1., 1., 1., 1.],\n",
       "       [1., 1., 1., 1., 1.],\n",
       "       [1., 1., 1., 1., 1.],\n",
       "       [1., 1., 1., 1., 1.]])"
      ]
     },
     "execution_count": 50,
     "metadata": {},
     "output_type": "execute_result"
    }
   ],
   "source": [
    "np.ones((5,5))"
   ]
  },
  {
   "cell_type": "markdown",
   "metadata": {
    "id": "sbZGk8TRshMr"
   },
   "source": [
    "### linspace"
   ]
  },
  {
   "cell_type": "code",
   "execution_count": 51,
   "metadata": {
    "colab": {
     "base_uri": "https://localhost:8080/"
    },
    "id": "tacWvPckrfjc",
    "outputId": "b3c46a43-da81-4eac-d705-80b94d3409d0"
   },
   "outputs": [
    {
     "data": {
      "text/plain": [
       "array([ 0.,  5., 10.])"
      ]
     },
     "execution_count": 51,
     "metadata": {},
     "output_type": "execute_result"
    }
   ],
   "source": [
    "np.linspace(0,10,3)"
   ]
  },
  {
   "cell_type": "code",
   "execution_count": 52,
   "metadata": {
    "colab": {
     "base_uri": "https://localhost:8080/"
    },
    "id": "RzgfDQcgrfmG",
    "outputId": "4b48b1e1-33c0-49fe-e1ed-91bd60d7bb62"
   },
   "outputs": [
    {
     "data": {
      "text/plain": [
       "array([0.  , 0.25, 0.5 , 0.75, 1.  , 1.25, 1.5 , 1.75, 2.  , 2.25, 2.5 ,\n",
       "       2.75, 3.  , 3.25, 3.5 , 3.75, 4.  , 4.25, 4.5 , 4.75, 5.  ])"
      ]
     },
     "execution_count": 52,
     "metadata": {},
     "output_type": "execute_result"
    }
   ],
   "source": [
    "np.linspace(0,5,21)"
   ]
  },
  {
   "cell_type": "markdown",
   "metadata": {
    "id": "Q4wnqIBYswSb"
   },
   "source": [
    "### <font color='green'>Array Attributes and Methods</font>"
   ]
  },
  {
   "cell_type": "markdown",
   "metadata": {
    "id": "HbLb2QoIs2fa"
   },
   "source": [
    "### Reshape \n",
    "\n",
    "Returns an array containing the same data with a new shape"
   ]
  },
  {
   "cell_type": "code",
   "execution_count": 53,
   "metadata": {
    "colab": {
     "base_uri": "https://localhost:8080/"
    },
    "id": "dLB2dhZIsw6L",
    "outputId": "ec074611-e7fc-48d8-e2cb-9181032b576c"
   },
   "outputs": [
    {
     "data": {
      "text/plain": [
       "array([ 0,  3,  6,  9, 12, 15, 18, 21, 24])"
      ]
     },
     "execution_count": 53,
     "metadata": {},
     "output_type": "execute_result"
    }
   ],
   "source": [
    "myarr=np.arange(0,25,3)\n",
    "myarr"
   ]
  },
  {
   "cell_type": "code",
   "execution_count": 54,
   "metadata": {
    "colab": {
     "base_uri": "https://localhost:8080/"
    },
    "id": "Jn0yJDt7s60b",
    "outputId": "93243786-e9d9-4124-c073-9f83ba6ce134"
   },
   "outputs": [
    {
     "data": {
      "text/plain": [
       "array([[ 0,  3,  6],\n",
       "       [ 9, 12, 15],\n",
       "       [18, 21, 24]])"
      ]
     },
     "execution_count": 54,
     "metadata": {},
     "output_type": "execute_result"
    }
   ],
   "source": [
    "myarr.reshape(3,3)"
   ]
  },
  {
   "cell_type": "markdown",
   "metadata": {
    "id": "jQy-MTkRtGLD"
   },
   "source": [
    "### Shape \n",
    "\n",
    "Shape is an attribute that arrays have (not a method)"
   ]
  },
  {
   "cell_type": "code",
   "execution_count": 55,
   "metadata": {
    "colab": {
     "base_uri": "https://localhost:8080/"
    },
    "id": "RTc826K8tGqM",
    "outputId": "12e9a3cd-66d6-429a-e39b-a142e504a308"
   },
   "outputs": [
    {
     "data": {
      "text/plain": [
       "(9,)"
      ]
     },
     "execution_count": 55,
     "metadata": {},
     "output_type": "execute_result"
    }
   ],
   "source": [
    "#one dimensional !\n",
    "myarr.shape"
   ]
  },
  {
   "cell_type": "code",
   "execution_count": 56,
   "metadata": {
    "colab": {
     "base_uri": "https://localhost:8080/"
    },
    "id": "fmHAKoc3tOSj",
    "outputId": "c2cf244d-eaaa-4cd9-f05a-1e25480c0b30"
   },
   "outputs": [
    {
     "data": {
      "text/plain": [
       "array([[ 0,  3,  6,  9, 12, 15, 18, 21, 24]])"
      ]
     },
     "execution_count": 56,
     "metadata": {},
     "output_type": "execute_result"
    }
   ],
   "source": [
    "myarr=myarr.reshape(1,9)\n",
    "myarr"
   ]
  },
  {
   "cell_type": "code",
   "execution_count": 57,
   "metadata": {
    "colab": {
     "base_uri": "https://localhost:8080/"
    },
    "id": "4H-F_CCMtQJK",
    "outputId": "2342da1b-ad1d-40c9-a051-a27e92074a35"
   },
   "outputs": [
    {
     "data": {
      "text/plain": [
       "(1, 9)"
      ]
     },
     "execution_count": 57,
     "metadata": {},
     "output_type": "execute_result"
    }
   ],
   "source": [
    "myarr.shape"
   ]
  },
  {
   "cell_type": "markdown",
   "metadata": {
    "id": "ktjVs5pjtWha"
   },
   "source": [
    "### <font color='green'>Indexing and Selection</font>"
   ]
  },
  {
   "cell_type": "markdown",
   "metadata": {
    "id": "mOmrLwlBtZr0"
   },
   "source": [
    "### 1D array"
   ]
  },
  {
   "cell_type": "code",
   "execution_count": 58,
   "metadata": {
    "colab": {
     "base_uri": "https://localhost:8080/"
    },
    "id": "LHJzrtDMtW1u",
    "outputId": "df6581aa-d40e-4657-cf51-1ae8292b08d7"
   },
   "outputs": [
    {
     "data": {
      "text/plain": [
       "array([ 0,  3,  6,  9, 12, 15, 18, 21, 24, 27, 30, 33])"
      ]
     },
     "execution_count": 58,
     "metadata": {},
     "output_type": "execute_result"
    }
   ],
   "source": [
    "myarr=np.arange(0,36,3)\n",
    "myarr"
   ]
  },
  {
   "cell_type": "code",
   "execution_count": 59,
   "metadata": {
    "colab": {
     "base_uri": "https://localhost:8080/"
    },
    "id": "SfDlGnMQtlxS",
    "outputId": "1ca0e204-4ecd-43ed-acdd-6fa7b2d9874b"
   },
   "outputs": [
    {
     "data": {
      "text/plain": [
       "9"
      ]
     },
     "execution_count": 59,
     "metadata": {},
     "output_type": "execute_result"
    }
   ],
   "source": [
    "myarr[3]"
   ]
  },
  {
   "cell_type": "code",
   "execution_count": 60,
   "metadata": {
    "colab": {
     "base_uri": "https://localhost:8080/"
    },
    "id": "a0_QJcIJtnF0",
    "outputId": "096b2fec-58dc-41a3-9b1a-53827183a46c"
   },
   "outputs": [
    {
     "data": {
      "text/plain": [
       "array([3, 6, 9])"
      ]
     },
     "execution_count": 60,
     "metadata": {},
     "output_type": "execute_result"
    }
   ],
   "source": [
    "# Just like indexing inside a list\n",
    "myarr[1:4]"
   ]
  },
  {
   "cell_type": "markdown",
   "metadata": {
    "id": "CiIgkQMItp8a"
   },
   "source": [
    "### 2D array(Matrix)"
   ]
  },
  {
   "cell_type": "code",
   "execution_count": 61,
   "metadata": {
    "colab": {
     "base_uri": "https://localhost:8080/"
    },
    "id": "OgiKAyd7tumC",
    "outputId": "2e4f4706-4b28-46e0-921b-01173e355d35"
   },
   "outputs": [
    {
     "data": {
      "text/plain": [
       "array([[ 0,  3,  6,  9, 12, 15, 18, 21, 24, 27, 30, 33]])"
      ]
     },
     "execution_count": 61,
     "metadata": {},
     "output_type": "execute_result"
    }
   ],
   "source": [
    "newarr=myarr.reshape((1,len(myarr)))\n",
    "newarr"
   ]
  },
  {
   "cell_type": "code",
   "execution_count": 62,
   "metadata": {
    "colab": {
     "base_uri": "https://localhost:8080/",
     "height": 180
    },
    "id": "fIZ_WHIstyob",
    "outputId": "f4865bc7-b02a-4d01-bfba-84626d1fc82e"
   },
   "outputs": [
    {
     "ename": "IndexError",
     "evalue": "index 3 is out of bounds for axis 0 with size 1",
     "output_type": "error",
     "traceback": [
      "\u001b[0;31m---------------------------------------------------------------------------\u001b[0m",
      "\u001b[0;31mIndexError\u001b[0m                                Traceback (most recent call last)",
      "\u001b[0;32m<ipython-input-62-3d6e0e7dd146>\u001b[0m in \u001b[0;36m<module>\u001b[0;34m\u001b[0m\n\u001b[1;32m      1\u001b[0m \u001b[0;31m# So why is that ?\u001b[0m\u001b[0;34m\u001b[0m\u001b[0;34m\u001b[0m\u001b[0;34m\u001b[0m\u001b[0m\n\u001b[0;32m----> 2\u001b[0;31m \u001b[0mnewarr\u001b[0m\u001b[0;34m[\u001b[0m\u001b[0;36m3\u001b[0m\u001b[0;34m]\u001b[0m\u001b[0;34m\u001b[0m\u001b[0;34m\u001b[0m\u001b[0m\n\u001b[0m",
      "\u001b[0;31mIndexError\u001b[0m: index 3 is out of bounds for axis 0 with size 1"
     ]
    }
   ],
   "source": [
    "# So why is that ?\n",
    "newarr[3]"
   ]
  },
  {
   "cell_type": "code",
   "execution_count": null,
   "metadata": {
    "colab": {
     "base_uri": "https://localhost:8080/"
    },
    "id": "tbLejio7tytv",
    "outputId": "ae35ba96-4d5c-44d7-f3dc-a0b7f8d58c08"
   },
   "outputs": [],
   "source": [
    "# arr[row][column] or arr[row , column]\n",
    "print(newarr[0][3])\n",
    "print(newarr[0,3])"
   ]
  },
  {
   "cell_type": "markdown",
   "metadata": {
    "id": "7TBwyI3Ht3ai"
   },
   "source": [
    "***The rest is left as an excersise**"
   ]
  },
  {
   "cell_type": "markdown",
   "metadata": {
    "id": "DjPXWnj5uemL"
   },
   "source": [
    "### <font color='green'>Operations</font> "
   ]
  },
  {
   "cell_type": "code",
   "execution_count": null,
   "metadata": {
    "colab": {
     "base_uri": "https://localhost:8080/"
    },
    "id": "gPH-G760t9aH",
    "outputId": "2fa14aad-d02a-4847-9523-a9eff72cb1ee"
   },
   "outputs": [],
   "source": [
    "myarr+myarr"
   ]
  },
  {
   "cell_type": "code",
   "execution_count": null,
   "metadata": {
    "colab": {
     "base_uri": "https://localhost:8080/"
    },
    "id": "4pfk3LOUunVR",
    "outputId": "69989401-8e28-4dc1-c3d4-41c6698afa21"
   },
   "outputs": [],
   "source": [
    "myarr-myarr*2"
   ]
  },
  {
   "cell_type": "code",
   "execution_count": null,
   "metadata": {
    "colab": {
     "base_uri": "https://localhost:8080/"
    },
    "id": "vKpnRfwxuqA9",
    "outputId": "274cf179-9feb-4377-ca4f-74bb09277797"
   },
   "outputs": [],
   "source": [
    "myarr**2"
   ]
  },
  {
   "cell_type": "code",
   "execution_count": null,
   "metadata": {
    "colab": {
     "base_uri": "https://localhost:8080/"
    },
    "id": "9C-1fkd7usfm",
    "outputId": "5fec11d1-bf03-40bb-838f-0e49e77f1ade"
   },
   "outputs": [],
   "source": [
    "1/myarr"
   ]
  },
  {
   "cell_type": "markdown",
   "metadata": {
    "id": "K1BD3rceuzvz"
   },
   "source": [
    "### <font color='green'>Functions</font> "
   ]
  },
  {
   "cell_type": "code",
   "execution_count": null,
   "metadata": {
    "colab": {
     "base_uri": "https://localhost:8080/"
    },
    "id": "VXGRUg2juuJn",
    "outputId": "f7196105-e346-471c-8b21-203f03be59cf"
   },
   "outputs": [],
   "source": [
    "np.sqrt(myarr)"
   ]
  },
  {
   "cell_type": "code",
   "execution_count": null,
   "metadata": {
    "colab": {
     "base_uri": "https://localhost:8080/"
    },
    "id": "7bmCzoE-u2WA",
    "outputId": "d23e5646-f1ca-473e-80ac-7b1cb11dea8b"
   },
   "outputs": [],
   "source": [
    "np.exp(myarr)"
   ]
  },
  {
   "cell_type": "code",
   "execution_count": null,
   "metadata": {
    "colab": {
     "base_uri": "https://localhost:8080/"
    },
    "id": "l325WHDiu4iw",
    "outputId": "885837f4-c599-47e5-ec69-c96db9acd3e7"
   },
   "outputs": [],
   "source": [
    "np.sin(myarr)"
   ]
  },
  {
   "cell_type": "code",
   "execution_count": null,
   "metadata": {
    "colab": {
     "base_uri": "https://localhost:8080/"
    },
    "id": "iEE_-cjuu6hF",
    "outputId": "9098718f-1519-4418-edf3-9782e297e5c7"
   },
   "outputs": [],
   "source": [
    "np.log(myarr)"
   ]
  },
  {
   "cell_type": "code",
   "execution_count": null,
   "metadata": {
    "colab": {
     "base_uri": "https://localhost:8080/"
    },
    "id": "grbpZMsl4U3A",
    "outputId": "a9bc7605-32b7-4e8f-e738-dabfdd572dc6"
   },
   "outputs": [],
   "source": [
    "myarr.sum()"
   ]
  },
  {
   "cell_type": "code",
   "execution_count": null,
   "metadata": {
    "colab": {
     "base_uri": "https://localhost:8080/"
    },
    "id": "41Ck_Df14Ws6",
    "outputId": "d5ea9e97-2cc6-4838-a68f-6cd45bf4be50"
   },
   "outputs": [],
   "source": [
    "np.sum(myarr)"
   ]
  },
  {
   "cell_type": "markdown",
   "metadata": {
    "id": "svlvwSsP3q9Z"
   },
   "source": [
    "##piecewise"
   ]
  },
  {
   "cell_type": "code",
   "execution_count": null,
   "metadata": {
    "colab": {
     "base_uri": "https://localhost:8080/"
    },
    "id": "tMeStzXC3tHo",
    "outputId": "db009d9b-f7a9-4f15-d10c-5c2f644456a9"
   },
   "outputs": [],
   "source": [
    "x=-1.5\n",
    "np.piecewise(x, [x<-2,-2<=x<=-1,x>-1], [0,lambda x: 2+x,1])"
   ]
  },
  {
   "cell_type": "code",
   "execution_count": null,
   "metadata": {
    "id": "oOeoh4WvAaHV"
   },
   "outputs": [],
   "source": [
    "A=lambda x : 2*x+1"
   ]
  },
  {
   "cell_type": "markdown",
   "metadata": {
    "id": "8zYIPZcmvR2q"
   },
   "source": [
    "#<font color='blue'>MATPLOTLIB</font> "
   ]
  },
  {
   "cell_type": "markdown",
   "metadata": {
    "id": "2uQwJG0Nv_6p"
   },
   "source": [
    "## Installation \n",
    "\n",
    "You'll need to install matplotlib first with either:\n",
    "\n",
    "    conda install matplotlib\n",
    "or\n",
    "\n",
    "    pip install matplotlib\n",
    "    \n",
    "## Importing"
   ]
  },
  {
   "cell_type": "code",
   "execution_count": null,
   "metadata": {
    "id": "CDz1zzj6vNHU"
   },
   "outputs": [],
   "source": [
    "import matplotlib.pyplot as plt"
   ]
  },
  {
   "cell_type": "markdown",
   "metadata": {
    "id": "nzGhVZpBwRna"
   },
   "source": [
    "**NOTE : For users running .py scripts in an IDE like PyCharm or Sublime Text Editor. You will not see the plots in a notebook, instead if you are using another editor, you'll use: <font color='purpule'>*plt.show()*</font> at the end of all your plotting commands to have the figure pop up in another window.**"
   ]
  },
  {
   "cell_type": "code",
   "execution_count": null,
   "metadata": {
    "id": "2iqDTckywE4i"
   },
   "outputs": [],
   "source": [
    "x = np.arange(0,10)\n",
    "y = 2*x"
   ]
  },
  {
   "cell_type": "markdown",
   "metadata": {
    "id": "28kw8HJlwfWJ"
   },
   "source": [
    "## <font color='green'>plt.plot() function calls</font>   "
   ]
  },
  {
   "cell_type": "code",
   "execution_count": null,
   "metadata": {
    "colab": {
     "base_uri": "https://localhost:8080/",
     "height": 295
    },
    "id": "tsU0qrSBwE9i",
    "outputId": "ce76c0f2-7933-4004-af7f-5585a5e1418b"
   },
   "outputs": [],
   "source": [
    "plt.plot(x, y) \n",
    "plt.xlabel('X Axis Title Here')\n",
    "plt.ylabel('Y Axis Title Here')\n",
    "plt.title('String Title Here');\n",
    "#plt.show() # Required for non-jupyter/colab users , but also removes first Output."
   ]
  },
  {
   "cell_type": "markdown",
   "metadata": {
    "id": "ElkkhIsjwwap"
   },
   "source": [
    "## Editing more figure parameters"
   ]
  },
  {
   "cell_type": "code",
   "execution_count": 24,
   "metadata": {
    "colab": {
     "base_uri": "https://localhost:8080/",
     "height": 295
    },
    "id": "b_YQXGL5wqWa",
    "outputId": "347e7218-f2ea-4fa9-c339-c051506dda20"
   },
   "outputs": [
    {
     "data": {
      "image/png": "[encoded data removed]",
      "text/plain": [
       "<Figure size 432x288 with 1 Axes>"
      ]
     },
     "metadata": {
      "needs_background": "light"
     },
     "output_type": "display_data"
    }
   ],
   "source": [
    "plt.plot(x, y) \n",
    "plt.xlabel('X Axis Title Here')\n",
    "plt.ylabel('Y Axis Title Here')\n",
    "plt.title('String Title Here')\n",
    "plt.xlim(0,6) # Lower Limit, Upper Limit\n",
    "plt.ylim(0,12) # Lower Limit, Upper Limit\n",
    "plt.show() # Required for non-jupyter users , but also removes Out[] info"
   ]
  },
  {
   "cell_type": "markdown",
   "metadata": {
    "id": "vBSV1i_uw6fJ"
   },
   "source": [
    "## Exporting a plot"
   ]
  },
  {
   "cell_type": "code",
   "execution_count": 25,
   "metadata": {
    "colab": {
     "base_uri": "https://localhost:8080/",
     "height": 265
    },
    "id": "UMOghMMvwlZ-",
    "outputId": "1698e206-aac9-449b-c185-331e05711b84"
   },
   "outputs": [
    {
     "data": {
      "image/png": "[encoded data removed]",
      "text/plain": [
       "<Figure size 432x288 with 1 Axes>"
      ]
     },
     "metadata": {
      "needs_background": "light"
     },
     "output_type": "display_data"
    }
   ],
   "source": [
    "plt.plot(x,y)\n",
    "plt.savefig('example.png')"
   ]
  },
  {
   "cell_type": "markdown",
   "metadata": {
    "id": "FXcRUJRM1Iih"
   },
   "source": [
    "## <font color='green'>plt.stem() function calls</font>   "
   ]
  },
  {
   "cell_type": "code",
   "execution_count": 26,
   "metadata": {
    "colab": {
     "base_uri": "https://localhost:8080/",
     "height": 282
    },
    "id": "a-jXFIMs1J-B",
    "outputId": "a96be924-f144-42cd-891c-a868acb559c4"
   },
   "outputs": [
    {
     "data": {
      "text/plain": [
       "<StemContainer object of 3 artists>"
      ]
     },
     "execution_count": 26,
     "metadata": {},
     "output_type": "execute_result"
    },
    {
     "data": {
      "image/png": "[encoded data removed]",
      "text/plain": [
       "<Figure size 432x288 with 1 Axes>"
      ]
     },
     "metadata": {
      "needs_background": "light"
     },
     "output_type": "display_data"
    }
   ],
   "source": [
    "x=np.linspace(0,10,11)\n",
    "y=np.exp(x)\n",
    "plt.stem(x,y,use_line_collection=True)"
   ]
  },
  {
   "cell_type": "markdown",
   "metadata": {
    "id": "3u-mcnlzxP56"
   },
   "source": [
    "##  <font color='green'>Figure Object</font>   "
   ]
  },
  {
   "cell_type": "code",
   "execution_count": 27,
   "metadata": {
    "colab": {
     "base_uri": "https://localhost:8080/"
    },
    "id": "FlE0mTh5xKZ6",
    "outputId": "231d60f3-2ae4-4473-a991-0680d41c038b"
   },
   "outputs": [
    {
     "name": "stdout",
     "output_type": "stream",
     "text": [
      "[ 0.  1.  2.  3.  4.  5.  6.  7.  8.  9. 10.]\n",
      "[0.000e+00 1.000e+00 1.600e+01 8.100e+01 2.560e+02 6.250e+02 1.296e+03\n",
      " 2.401e+03 4.096e+03 6.561e+03 1.000e+04]\n"
     ]
    }
   ],
   "source": [
    "a = np.linspace(0,10,11)\n",
    "b = a ** 4\n",
    "print(a)\n",
    "print(b)"
   ]
  },
  {
   "cell_type": "markdown",
   "metadata": {
    "id": "ObkToVnQxknz"
   },
   "source": [
    "### Creating a Figure\n",
    "#### Matplotlib Object Oriented Method\n",
    "The main idea in using the more formal Object Oriented method is to create figure objects and then just call methods or attributes off of that object. This approach is nicer when dealing with a canvas that has multiple plots on it. "
   ]
  },
  {
   "cell_type": "code",
   "execution_count": 28,
   "metadata": {
    "colab": {
     "base_uri": "https://localhost:8080/",
     "height": 34
    },
    "id": "VIG-HXzcxeJ8",
    "outputId": "3eb1206f-738a-438c-bb0a-c36017139362"
   },
   "outputs": [
    {
     "data": {
      "text/plain": [
       "<Figure size 432x288 with 0 Axes>"
      ]
     },
     "metadata": {},
     "output_type": "display_data"
    }
   ],
   "source": [
    "# Creates blank canvas\n",
    "fig = plt.figure()"
   ]
  },
  {
   "cell_type": "code",
   "execution_count": 29,
   "metadata": {
    "colab": {
     "base_uri": "https://localhost:8080/",
     "height": 336
    },
    "id": "ro_N5uRIxxCi",
    "outputId": "36f0e78c-bb43-44e7-bae8-1833135d4a5e"
   },
   "outputs": [
    {
     "data": {
      "image/png": "[encoded data removed]",
      "text/plain": [
       "<Figure size 432x288 with 1 Axes>"
      ]
     },
     "metadata": {
      "needs_background": "light"
     },
     "output_type": "display_data"
    }
   ],
   "source": [
    "# Create Figure (empty canvas)\n",
    "fig = plt.figure()\n",
    "\n",
    "# Add set of axes to figure\n",
    "axes = fig.add_axes([0, 0, 1, 1]) # left, bottom, width, height (range 0 to 1)\n",
    "\n",
    "# Plot on that set of axes\n",
    "axes.plot(x, y)\n",
    "\n",
    "plt.show()"
   ]
  },
  {
   "cell_type": "code",
   "execution_count": 30,
   "metadata": {
    "colab": {
     "base_uri": "https://localhost:8080/",
     "height": 366
    },
    "id": "0m2MXcB_yCgj",
    "outputId": "94b612a5-7861-428a-858f-4f6e7ca8f021"
   },
   "outputs": [
    {
     "data": {
      "image/png": "[encoded data removed]",
      "text/plain": [
       "<Figure size 432x288 with 2 Axes>"
      ]
     },
     "metadata": {
      "needs_background": "light"
     },
     "output_type": "display_data"
    }
   ],
   "source": [
    "# Creates blank canvas\n",
    "fig = plt.figure()\n",
    "\n",
    "axes1 = fig.add_axes([0, 0, 1, 1]) # Large figure\n",
    "axes2 = fig.add_axes([0.2, 0.5, 0.25, 0.25]) # Smaller figure\n",
    "\n",
    "# Larger Figure Axes 1\n",
    "axes1.plot(a, b)\n",
    "\n",
    "# Use set_ to add to the axes figure\n",
    "axes1.set_xlabel('X Label')\n",
    "axes1.set_ylabel('Y Label')\n",
    "axes1.set_title('Big Figure')\n",
    "\n",
    "# Insert Figure Axes 2\n",
    "axes2.plot(a,b)\n",
    "axes2.set_xlim(8,10)\n",
    "axes2.set_ylim(4000,10000)\n",
    "axes2.set_xlabel('X')\n",
    "axes2.set_ylabel('Y')\n",
    "axes2.set_title('Zoomed In');"
   ]
  },
  {
   "cell_type": "markdown",
   "metadata": {
    "id": "RA-p08UxyO-C"
   },
   "source": [
    "### Tunning Figure Parameters"
   ]
  },
  {
   "cell_type": "code",
   "execution_count": 31,
   "metadata": {
    "colab": {
     "base_uri": "https://localhost:8080/",
     "height": 575
    },
    "id": "Kc00vw_YyPZw",
    "outputId": "6fb96f9c-7a36-4714-a7f4-47d2c56c8e93"
   },
   "outputs": [
    {
     "data": {
      "image/png": "[encoded data removed]",
      "text/plain": [
       "<Figure size 2000x600 with 1 Axes>"
      ]
     },
     "metadata": {
      "needs_background": "light"
     },
     "output_type": "display_data"
    }
   ],
   "source": [
    "# Creates blank canvas\n",
    "fig = plt.figure(figsize=(20,6),dpi=100)\n",
    "\n",
    "axes1 = fig.add_axes([0, 0, 1, 1])\n",
    "\n",
    "axes1.plot(a,b);"
   ]
  },
  {
   "cell_type": "markdown",
   "metadata": {
    "id": "LhWjjoN4yj8K"
   },
   "source": [
    "##  <font color='green'>plt.subplots()</font>   \n",
    "\n",
    "**NOTE: Make sure you put the commands all together in the same cell as we do in this notebook !**\n",
    "\n",
    "The plt.subplots() object will act as a more automatic axis manager. This makes it much easier to show multiple plots side by side."
   ]
  },
  {
   "cell_type": "code",
   "execution_count": 32,
   "metadata": {
    "colab": {
     "base_uri": "https://localhost:8080/",
     "height": 295
    },
    "id": "iA4fD41oyZxZ",
    "outputId": "d1b00519-64e4-4afa-ca1b-11584e1a6235"
   },
   "outputs": [
    {
     "data": {
      "image/png": "[encoded data removed]",
      "text/plain": [
       "<Figure size 432x288 with 1 Axes>"
      ]
     },
     "metadata": {
      "needs_background": "light"
     },
     "output_type": "display_data"
    }
   ],
   "source": [
    "# Use similar to plt.figure() except use tuple unpacking to grab fig and axes\n",
    "fig, axes = plt.subplots()\n",
    "\n",
    "# Now use the axes object to add stuff to plot\n",
    "axes.plot(x, y, 'r')\n",
    "axes.set_xlabel('x')\n",
    "axes.set_ylabel('y')\n",
    "axes.set_title('title'); #; hides Output"
   ]
  },
  {
   "cell_type": "markdown",
   "metadata": {
    "id": "X1UunSceyvpy"
   },
   "source": [
    "### Adding rows and columns"
   ]
  },
  {
   "cell_type": "code",
   "execution_count": 33,
   "metadata": {
    "colab": {
     "base_uri": "https://localhost:8080/",
     "height": 269
    },
    "id": "4PltTlXyyrEb",
    "outputId": "26e508b5-3430-445b-c70c-a2df2d234b70"
   },
   "outputs": [
    {
     "data": {
      "image/png": "[encoded data removed]",
      "text/plain": [
       "<Figure size 432x288 with 2 Axes>"
      ]
     },
     "metadata": {
      "needs_background": "light"
     },
     "output_type": "display_data"
    }
   ],
   "source": [
    "# Empty canvas of 1 by 2 subplots\n",
    "fig, axes = plt.subplots(nrows=1, ncols=2)"
   ]
  },
  {
   "cell_type": "code",
   "execution_count": 34,
   "metadata": {
    "colab": {
     "base_uri": "https://localhost:8080/"
    },
    "id": "FpNkqOmAy4kZ",
    "outputId": "d7e4ebf8-b717-46fe-aad1-c66642496bd4"
   },
   "outputs": [
    {
     "data": {
      "text/plain": [
       "array([<AxesSubplot:>, <AxesSubplot:>], dtype=object)"
      ]
     },
     "execution_count": 34,
     "metadata": {},
     "output_type": "execute_result"
    }
   ],
   "source": [
    "axes"
   ]
  },
  {
   "cell_type": "markdown",
   "metadata": {
    "id": "zG3fjWgSzAiK"
   },
   "source": [
    "### Plotting on axes objects\n",
    "\n",
    "Just as before, we simple .plot() on the axes objects, and we can also use the .set_ methods on each axes.\n",
    "\n",
    "**Method 1**"
   ]
  },
  {
   "cell_type": "code",
   "execution_count": 35,
   "metadata": {
    "colab": {
     "base_uri": "https://localhost:8080/",
     "height": 265
    },
    "id": "j-PL6tDGzBaX",
    "outputId": "498d6023-e540-4e18-f1bd-39441f4add02"
   },
   "outputs": [
    {
     "data": {
      "image/png": "[encoded data removed]",
      "text/plain": [
       "<Figure size 432x288 with 2 Axes>"
      ]
     },
     "metadata": {
      "needs_background": "light"
     },
     "output_type": "display_data"
    }
   ],
   "source": [
    "fig,axes = plt.subplots(nrows=1,ncols=2)\n",
    "\n",
    "for axe in axes:\n",
    "    axe.plot(x,y)"
   ]
  },
  {
   "cell_type": "code",
   "execution_count": 36,
   "metadata": {
    "colab": {
     "base_uri": "https://localhost:8080/",
     "height": 265
    },
    "id": "shcDtN0dzKOD",
    "outputId": "c8620bc7-21b4-4959-8922-0a6e3f5c5186"
   },
   "outputs": [
    {
     "data": {
      "image/png": "[encoded data removed]",
      "text/plain": [
       "<Figure size 432x288 with 2 Axes>"
      ]
     },
     "metadata": {
      "needs_background": "light"
     },
     "output_type": "display_data"
    }
   ],
   "source": [
    "fig,axes = plt.subplots(nrows=1,ncols=2)\n",
    "\n",
    "axes[0].plot(a,b)\n",
    "axes[1].plot(x,y);"
   ]
  },
  {
   "cell_type": "markdown",
   "metadata": {
    "id": "J5HhqBQYzRlB"
   },
   "source": [
    "###fig.tight_layout() or plt.tight_layout()"
   ]
  },
  {
   "cell_type": "code",
   "execution_count": 37,
   "metadata": {
    "colab": {
     "base_uri": "https://localhost:8080/",
     "height": 297
    },
    "id": "PyEXFgfZzQOQ",
    "outputId": "3fbc0a34-7ea3-4417-d66c-398e9584119e"
   },
   "outputs": [
    {
     "data": {
      "image/png": "[encoded data removed]",
      "text/plain": [
       "<Figure size 432x288 with 2 Axes>"
      ]
     },
     "metadata": {
      "needs_background": "light"
     },
     "output_type": "display_data"
    }
   ],
   "source": [
    "fig,axes = plt.subplots(nrows=1,ncols=2)\n",
    "\n",
    "axes[0].plot(a,b)\n",
    "axes[1].plot(x,y);\n",
    "plt.tight_layout()"
   ]
  },
  {
   "cell_type": "markdown",
   "metadata": {
    "id": "O1o6baXJznXZ"
   },
   "source": [
    "## <font color='green'>Styling</font>  "
   ]
  },
  {
   "cell_type": "markdown",
   "metadata": {
    "id": "igpGzlyHz_y6"
   },
   "source": [
    "### Legends\n",
    "You can use the **label=\"label text\"** keyword argument when plots or other objects are added to the figure, and then using the **legend** method without arguments to add the legend to the figure: "
   ]
  },
  {
   "cell_type": "code",
   "execution_count": 38,
   "metadata": {
    "colab": {
     "base_uri": "https://localhost:8080/",
     "height": 336
    },
    "id": "5Vhgqvrpzaab",
    "outputId": "47be2754-4133-4503-dd67-69425b748437"
   },
   "outputs": [
    {
     "data": {
      "image/png": "[encoded data removed]",
      "text/plain": [
       "<Figure size 432x288 with 1 Axes>"
      ]
     },
     "metadata": {
      "needs_background": "light"
     },
     "output_type": "display_data"
    }
   ],
   "source": [
    "fig = plt.figure()\n",
    "\n",
    "ax = fig.add_axes([0,0,1,1])\n",
    "\n",
    "ax.plot(x, x**2, label=\"x**2\")\n",
    "ax.plot(x, x**3, label=\"x**3\")\n",
    "ax.legend();"
   ]
  },
  {
   "cell_type": "markdown",
   "metadata": {
    "id": "h3mvI1Ng0JAg"
   },
   "source": [
    "### Setting colors, linewidths, linetypes\n",
    "\n",
    "Matplotlib gives you *a lot* of options for customizing colors, linewidths, and linetypes. \n",
    "\n",
    "**Method 1 : using matlab common styling**"
   ]
  },
  {
   "cell_type": "code",
   "execution_count": 39,
   "metadata": {
    "colab": {
     "base_uri": "https://localhost:8080/",
     "height": 282
    },
    "id": "ZkFkL00v0Jrt",
    "outputId": "c1a3f281-c369-4803-e3bc-e246a70592a2"
   },
   "outputs": [
    {
     "data": {
      "text/plain": [
       "[<matplotlib.lines.Line2D at 0x7f9ce72479d0>]"
      ]
     },
     "execution_count": 39,
     "metadata": {},
     "output_type": "execute_result"
    },
    {
     "data": {
      "image/png": "[encoded data removed]",
      "text/plain": [
       "<Figure size 432x288 with 1 Axes>"
      ]
     },
     "metadata": {
      "needs_background": "light"
     },
     "output_type": "display_data"
    }
   ],
   "source": [
    "# MATLAB style line color and style \n",
    "fig, ax = plt.subplots()\n",
    "ax.plot(x, x**2, 'b.-') # blue line with dots\n",
    "ax.plot(x, x**3, 'g--') # green dashed line"
   ]
  },
  {
   "cell_type": "markdown",
   "metadata": {
    "id": "PlNJctlm0b_i"
   },
   "source": [
    "**Method 2 : Use keyword arguments(Suggested)**\n"
   ]
  },
  {
   "cell_type": "code",
   "execution_count": 40,
   "metadata": {
    "colab": {
     "base_uri": "https://localhost:8080/",
     "height": 282
    },
    "id": "3B5Ji5HG0Ydc",
    "outputId": "3255c21e-5ea8-4e53-bd76-a5d1b8e8b6e4"
   },
   "outputs": [
    {
     "data": {
      "text/plain": [
       "[<matplotlib.lines.Line2D at 0x7f9ce723a3a0>]"
      ]
     },
     "execution_count": 40,
     "metadata": {},
     "output_type": "execute_result"
    },
    {
     "data": {
      "image/png": "[encoded data removed]",
      "text/plain": [
       "<Figure size 432x288 with 1 Axes>"
      ]
     },
     "metadata": {
      "needs_background": "light"
     },
     "output_type": "display_data"
    }
   ],
   "source": [
    "fig, ax = plt.subplots()\n",
    "\n",
    "ax.plot(x, x+1, color=\"blue\", alpha=0.5) # half-transparant\n",
    "ax.plot(x, x+2, color=\"#8B008B\")        # RGB hex code\n",
    "ax.plot(x, x+3, color=\"#FF8C00\")        # RGB hex code "
   ]
  },
  {
   "cell_type": "markdown",
   "metadata": {
    "id": "eqybA5qR0rYB"
   },
   "source": [
    "#<font color='blue'>Scipy</font> \n",
    "SciPy is a collection of mathematical algorithms and convenience functions built on the NumPy extension of Python.\n",
    "\n",
    "**Here we just focus on the signal package.**"
   ]
  },
  {
   "cell_type": "markdown",
   "metadata": {
    "id": "pLBbqF-S2IGg"
   },
   "source": [
    "## Installation \n",
    "\n",
    "You'll need to install matplotlib first with either:\n",
    "\n",
    "    conda install scipy\n",
    "    \n",
    "or\n",
    "\n",
    "    pip install scipy\n",
    "    \n",
    "## Importing"
   ]
  },
  {
   "cell_type": "code",
   "execution_count": 63,
   "metadata": {
    "id": "2jWjjwRu0w0G"
   },
   "outputs": [],
   "source": [
    "\n",
    "from scipy import signal"
   ]
  },
  {
   "cell_type": "markdown",
   "metadata": {
    "id": "WuFUXpTy23yJ"
   },
   "source": [
    "## <font color='green'>Unit_Impulse</font>  "
   ]
  },
  {
   "cell_type": "code",
   "execution_count": 64,
   "metadata": {
    "colab": {
     "base_uri": "https://localhost:8080/"
    },
    "id": "H-sKjXEo2eRZ",
    "outputId": "10b10be7-2c36-4932-f852-64ecb6b109f6"
   },
   "outputs": [
    {
     "data": {
      "text/plain": [
       "array([1., 0., 0., 0., 0., 0., 0., 0., 0., 0.])"
      ]
     },
     "execution_count": 64,
     "metadata": {},
     "output_type": "execute_result"
    }
   ],
   "source": [
    "signal.unit_impulse(10)"
   ]
  },
  {
   "cell_type": "code",
   "execution_count": 65,
   "metadata": {
    "colab": {
     "base_uri": "https://localhost:8080/"
    },
    "id": "sDUzRfq23JLD",
    "outputId": "0170af16-dd55-4c8b-a68c-9e6f826da93c"
   },
   "outputs": [
    {
     "data": {
      "text/plain": [
       "array([0., 0., 0., 0., 0., 1., 0., 0., 0., 0.])"
      ]
     },
     "execution_count": 65,
     "metadata": {},
     "output_type": "execute_result"
    }
   ],
   "source": [
    "signal.unit_impulse(10,'mid')"
   ]
  },
  {
   "cell_type": "code",
   "execution_count": 66,
   "metadata": {
    "colab": {
     "base_uri": "https://localhost:8080/"
    },
    "id": "Z7R6KJB53NFN",
    "outputId": "f14a69f3-3c1e-48a4-da98-bd02d10275ab"
   },
   "outputs": [
    {
     "data": {
      "text/plain": [
       "array([0., 0., 0., 1., 0., 0., 0., 0., 0., 0.])"
      ]
     },
     "execution_count": 66,
     "metadata": {},
     "output_type": "execute_result"
    }
   ],
   "source": [
    "signal.unit_impulse(10,[3])"
   ]
  },
  {
   "cell_type": "code",
   "execution_count": 67,
   "metadata": {
    "colab": {
     "base_uri": "https://localhost:8080/"
    },
    "id": "N_dBslF53TZm",
    "outputId": "8acc45f4-2406-4998-9f08-d37381e6b844"
   },
   "outputs": [
    {
     "data": {
      "text/plain": [
       "array([0., 0., 0., 1., 0., 0., 0., 0., 1., 0.])"
      ]
     },
     "execution_count": 67,
     "metadata": {},
     "output_type": "execute_result"
    }
   ],
   "source": [
    "signal.unit_impulse(10,[3,8])"
   ]
  },
  {
   "cell_type": "markdown",
   "metadata": {
    "id": "XoF4B7AG4qKX"
   },
   "source": [
    "## <font color='green'>Convolve</font>  "
   ]
  },
  {
   "cell_type": "code",
   "execution_count": 68,
   "metadata": {
    "colab": {
     "base_uri": "https://localhost:8080/"
    },
    "id": "wd24e_5N3Vhj",
    "outputId": "312930c1-0a1b-4566-b616-c7a3e0e6e990"
   },
   "outputs": [
    {
     "data": {
      "text/plain": [
       "array([ 2,  9, 24, 40, 42, 27])"
      ]
     },
     "execution_count": 68,
     "metadata": {},
     "output_type": "execute_result"
    }
   ],
   "source": [
    "x1=np.array([1,2,3])\n",
    "x2=np.array([2,5,8,9])\n",
    "y=signal.convolve(x1,x2)\n",
    "y"
   ]
  },
  {
   "cell_type": "markdown",
   "metadata": {
    "id": "aML1GCjX5AhI"
   },
   "source": [
    "## <font color='green'>Deconvolve</font>  "
   ]
  },
  {
   "cell_type": "code",
   "execution_count": null,
   "metadata": {
    "colab": {
     "base_uri": "https://localhost:8080/"
    },
    "id": "PCXcogbq41u6",
    "outputId": "614b1397-1f12-4b80-85e9-5e570cda555c"
   },
   "outputs": [],
   "source": [
    "signal.deconvolve(y,x1)"
   ]
  },
  {
   "cell_type": "markdown",
   "metadata": {
    "id": "txU20R-U5na3"
   },
   "source": [
    "#That's it ! , Hope you have enjoyed it so far ✌"
   ]
  },
  {
   "cell_type": "code",
   "execution_count": null,
   "metadata": {
    "id": "CZ21nRcl6ahv"
   },
   "outputs": [],
   "source": []
  }
 ],
 "metadata": {
  "colab": {
   "collapsed_sections": [],
   "name": "SS_Tuturial1.ipynb",
   "provenance": []
  },
  "kernelspec": {
   "display_name": "Python 3",
   "language": "python",
   "name": "python3"
  },
  "language_info": {
   "codemirror_mode": {
    "name": "ipython",
    "version": 3
   },
   "file_extension": ".py",
   "mimetype": "text/x-python",
   "name": "python",
   "nbconvert_exporter": "python",
   "pygments_lexer": "ipython3",
   "version": "3.8.10"
  }
 },
 "nbformat": 4,
 "nbformat_minor": 1
}
