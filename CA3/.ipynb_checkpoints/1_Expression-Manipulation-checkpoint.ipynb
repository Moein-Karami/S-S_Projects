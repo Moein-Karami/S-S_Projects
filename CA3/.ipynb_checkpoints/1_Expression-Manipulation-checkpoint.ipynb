{
 "cells": [
  {
   "cell_type": "code",
   "execution_count": 1,
   "metadata": {},
   "outputs": [],
   "source": [
    "from lcapy import *"
   ]
  },
  {
   "cell_type": "markdown",
   "metadata": {},
   "source": [
    "# 1)\n",
    "## الف)"
   ]
  },
  {
   "cell_type": "code",
   "execution_count": 2,
   "metadata": {},
   "outputs": [
    {
     "data": {
      "image/png": "[encoded data removed]",
      "text/latex": [
       "$\\displaystyle A_{1} e^{- \\alpha t} u\\left(t\\right) + A_{2} e^{- \\beta t} \\sin{\\left(\\omega_{0} t + \\theta \\right)} u\\left(t\\right)$"
      ],
      "text/plain": [
       "    -α⋅t            -β⋅t                   \n",
       "A₁⋅ℯ    ⋅u(t) + A₂⋅ℯ    ⋅sin(ω₀⋅t + θ)⋅u(t)"
      ]
     },
     "execution_count": 2,
     "metadata": {},
     "output_type": "execute_result"
    }
   ],
   "source": [
    "x = expr('A_1 * exp(-alpha * t) * u(t) + A_2 * exp(-beta * t) * sin(omega_0 * t + theta) * u(t)')\n",
    "x.expr"
   ]
  },
  {
   "cell_type": "markdown",
   "metadata": {},
   "source": [
    "### ب)"
   ]
  },
  {
   "cell_type": "code",
   "execution_count": 3,
   "metadata": {},
   "outputs": [
    {
     "data": {
      "image/png": "[encoded data removed]",
      "text/latex": [
       "$\\displaystyle \\frac{A_{1}}{s \\left(\\frac{\\alpha}{s} + 1\\right)} + \\frac{A_{2} \\left(\\omega_{0} \\cos{\\left(\\theta \\right)} + \\left(\\beta + s\\right) \\sin{\\left(\\theta \\right)}\\right)}{\\omega_{0}^{2} + \\left(\\beta + s\\right)^{2}}$"
      ],
      "text/plain": [
       "    A₁      A₂⋅(ω₀⋅cos(θ) + (β + s)⋅sin(θ))\n",
       "───────── + ───────────────────────────────\n",
       "  ⎛α    ⎞              2          2        \n",
       "s⋅⎜─ + 1⎟            ω₀  + (β + s)         \n",
       "  ⎝s    ⎠                                  "
      ]
     },
     "execution_count": 3,
     "metadata": {},
     "output_type": "execute_result"
    }
   ],
   "source": [
    "Xs = x(s)\n",
    "Xs.expr"
   ]
  },
  {
   "cell_type": "markdown",
   "metadata": {},
   "source": [
    "## ج)"
   ]
  },
  {
   "cell_type": "code",
   "execution_count": 4,
   "metadata": {},
   "outputs": [
    {
     "data": {
      "image/png": "[encoded data removed]",
      "text/latex": [
       "$\\displaystyle \\frac{A_{1} \\beta^{2} + 2 A_{1} \\beta s + A_{1} \\omega_{0}^{2} + A_{1} s^{2} + A_{2} \\alpha \\beta \\sin{\\left(\\theta \\right)} + A_{2} \\alpha \\omega_{0} \\cos{\\left(\\theta \\right)} + A_{2} \\alpha s \\sin{\\left(\\theta \\right)} + A_{2} \\beta s \\sin{\\left(\\theta \\right)} + A_{2} \\omega_{0} s \\cos{\\left(\\theta \\right)} + A_{2} s^{2} \\sin{\\left(\\theta \\right)}}{\\alpha \\beta^{2} + 2 \\alpha \\beta s + \\alpha \\omega_{0}^{2} + \\alpha s^{2} + \\beta^{2} s + 2 \\beta s^{2} + \\omega_{0}^{2} s + s^{3}}$"
      ],
      "text/plain": [
       "    2                   2       2                                             \n",
       "A₁⋅β  + 2⋅A₁⋅β⋅s + A₁⋅ω₀  + A₁⋅s  + A₂⋅α⋅β⋅sin(θ) + A₂⋅α⋅ω₀⋅cos(θ) + A₂⋅α⋅s⋅si\n",
       "──────────────────────────────────────────────────────────────────────────────\n",
       "                                       2                 2      2    2        \n",
       "                                    α⋅β  + 2⋅α⋅β⋅s + α⋅ω₀  + α⋅s  + β ⋅s + 2⋅β\n",
       "\n",
       "                                            2       \n",
       "n(θ) + A₂⋅β⋅s⋅sin(θ) + A₂⋅ω₀⋅s⋅cos(θ) + A₂⋅s ⋅sin(θ)\n",
       "────────────────────────────────────────────────────\n",
       "  2     2      3                                    \n",
       "⋅s  + ω₀ ⋅s + s                                     "
      ]
     },
     "execution_count": 4,
     "metadata": {},
     "output_type": "execute_result"
    }
   ],
   "source": [
    "G = Xs.partfrac().simplify()\n",
    "G.expr"
   ]
  },
  {
   "cell_type": "markdown",
   "metadata": {},
   "source": [
    "## د)\n",
    "در این حالت قطب‌ها به سادگی قابل تشخیص هستند."
   ]
  },
  {
   "cell_type": "code",
   "execution_count": 5,
   "metadata": {},
   "outputs": [
    {
     "data": {
      "image/png": "[encoded data removed]",
      "text/latex": [
       "$\\displaystyle \\frac{A_{1} \\alpha^{2} - 2 A_{1} \\alpha \\beta + A_{1} \\beta^{2} + A_{1} \\omega_{0}^{2}}{\\left(\\alpha + s\\right) \\left(- \\alpha + \\beta - \\mathrm{j} \\omega_{0}\\right) \\left(- \\alpha + \\beta + \\mathrm{j} \\omega_{0}\\right)} - \\frac{\\mathrm{j} \\left(A_{1} \\beta^{2} + 2 A_{1} \\beta \\left(- \\beta + \\mathrm{j} \\omega_{0}\\right) + A_{1} \\omega_{0}^{2} + A_{1} \\left(- \\beta + \\mathrm{j} \\omega_{0}\\right)^{2} + A_{2} \\alpha \\beta \\sin{\\left(\\theta \\right)} + A_{2} \\alpha \\omega_{0} \\cos{\\left(\\theta \\right)} + A_{2} \\alpha \\left(- \\beta + \\mathrm{j} \\omega_{0}\\right) \\sin{\\left(\\theta \\right)} + A_{2} \\beta \\left(- \\beta + \\mathrm{j} \\omega_{0}\\right) \\sin{\\left(\\theta \\right)} + A_{2} \\omega_{0} \\left(- \\beta + \\mathrm{j} \\omega_{0}\\right) \\cos{\\left(\\theta \\right)} + A_{2} \\left(- \\beta + \\mathrm{j} \\omega_{0}\\right)^{2} \\sin{\\left(\\theta \\right)}\\right)}{2 \\omega_{0} \\left(\\alpha - \\beta + \\mathrm{j} \\omega_{0}\\right) \\left(\\beta - \\mathrm{j} \\omega_{0} + s\\right)} + \\frac{\\mathrm{j} \\left(A_{1} \\beta^{2} + 2 A_{1} \\beta \\left(- \\beta - \\mathrm{j} \\omega_{0}\\right) + A_{1} \\omega_{0}^{2} + A_{1} \\left(- \\beta - \\mathrm{j} \\omega_{0}\\right)^{2} + A_{2} \\alpha \\beta \\sin{\\left(\\theta \\right)} + A_{2} \\alpha \\omega_{0} \\cos{\\left(\\theta \\right)} + A_{2} \\alpha \\left(- \\beta - \\mathrm{j} \\omega_{0}\\right) \\sin{\\left(\\theta \\right)} + A_{2} \\beta \\left(- \\beta - \\mathrm{j} \\omega_{0}\\right) \\sin{\\left(\\theta \\right)} + A_{2} \\omega_{0} \\left(- \\beta - \\mathrm{j} \\omega_{0}\\right) \\cos{\\left(\\theta \\right)} + A_{2} \\left(- \\beta - \\mathrm{j} \\omega_{0}\\right)^{2} \\sin{\\left(\\theta \\right)}\\right)}{2 \\omega_{0} \\left(\\alpha - \\beta - \\mathrm{j} \\omega_{0}\\right) \\left(\\beta + \\mathrm{j} \\omega_{0} + s\\right)}$"
      ],
      "text/plain": [
       "       2                  2        2        ⎛    2                            \n",
       "   A₁⋅α  - 2⋅A₁⋅α⋅β + A₁⋅β  + A₁⋅ω₀       ⅉ⋅⎝A₁⋅β  + 2⋅A₁⋅β⋅(-β + ⅉ⋅ω₀) + A₁⋅ω\n",
       "─────────────────────────────────────── - ────────────────────────────────────\n",
       "(α + s)⋅(-α + β - ⅉ⋅ω₀)⋅(-α + β + ⅉ⋅ω₀)                                       \n",
       "\n",
       " 2                 2                                                          \n",
       "₀  + A₁⋅(-β + ⅉ⋅ω₀)  + A₂⋅α⋅β⋅sin(θ) + A₂⋅α⋅ω₀⋅cos(θ) + A₂⋅α⋅(-β + ⅉ⋅ω₀)⋅sin(θ\n",
       "──────────────────────────────────────────────────────────────────────────────\n",
       "                                            2⋅ω₀⋅(α - β + ⅉ⋅ω₀)⋅(β - ⅉ⋅ω₀ + s)\n",
       "\n",
       "                                                                       2      \n",
       ") + A₂⋅β⋅(-β + ⅉ⋅ω₀)⋅sin(θ) + A₂⋅ω₀⋅(-β + ⅉ⋅ω₀)⋅cos(θ) + A₂⋅(-β + ⅉ⋅ω₀) ⋅sin(θ\n",
       "──────────────────────────────────────────────────────────────────────────────\n",
       "                                                                              \n",
       "\n",
       " ⎞     ⎛    2                             2                 2                 \n",
       ")⎠   ⅉ⋅⎝A₁⋅β  + 2⋅A₁⋅β⋅(-β - ⅉ⋅ω₀) + A₁⋅ω₀  + A₁⋅(-β - ⅉ⋅ω₀)  + A₂⋅α⋅β⋅sin(θ) \n",
       "── + ─────────────────────────────────────────────────────────────────────────\n",
       "                                                                              \n",
       "\n",
       "                                                                              \n",
       "+ A₂⋅α⋅ω₀⋅cos(θ) + A₂⋅α⋅(-β - ⅉ⋅ω₀)⋅sin(θ) + A₂⋅β⋅(-β - ⅉ⋅ω₀)⋅sin(θ) + A₂⋅ω₀⋅(\n",
       "──────────────────────────────────────────────────────────────────────────────\n",
       "       2⋅ω₀⋅(α - β - ⅉ⋅ω₀)⋅(β + ⅉ⋅ω₀ + s)                                     \n",
       "\n",
       "                                  2       ⎞\n",
       "-β - ⅉ⋅ω₀)⋅cos(θ) + A₂⋅(-β - ⅉ⋅ω₀) ⋅sin(θ)⎠\n",
       "───────────────────────────────────────────\n",
       "                                           "
      ]
     },
     "execution_count": 5,
     "metadata": {},
     "output_type": "execute_result"
    }
   ],
   "source": [
    "H = Xs.partfrac()\n",
    "H.expr"
   ]
  },
  {
   "cell_type": "markdown",
   "metadata": {},
   "source": [
    "## ه) قطب ها\n",
    "$s = -\\alpha$\n",
    "\n",
    "$s = j\\omega_0 - \\beta$\n",
    "\n",
    "$s = -j\\omega_0 - \\beta$ "
   ]
  },
  {
   "cell_type": "code",
   "execution_count": 6,
   "metadata": {},
   "outputs": [
    {
     "data": {
      "image/png": "[encoded data removed]",
      "text/latex": [
       "$\\displaystyle \\frac{\\left(A_{1} + A_{2} \\sin{\\left(\\theta \\right)}\\right) \\left(s + \\frac{2 A_{1} \\beta + A_{2} \\alpha \\sin{\\left(\\theta \\right)} + A_{2} \\beta \\sin{\\left(\\theta \\right)} + A_{2} \\omega_{0} \\cos{\\left(\\theta \\right)}}{2 A_{1} + 2 A_{2} \\sin{\\left(\\theta \\right)}} - \\frac{\\sqrt{- 4 \\left(A_{1} + A_{2} \\sin{\\left(\\theta \\right)}\\right) \\left(A_{1} \\beta^{2} + A_{1} \\omega_{0}^{2} + A_{2} \\alpha \\beta \\sin{\\left(\\theta \\right)} + A_{2} \\alpha \\omega_{0} \\cos{\\left(\\theta \\right)}\\right) + \\left(2 A_{1} \\beta + A_{2} \\alpha \\sin{\\left(\\theta \\right)} + A_{2} \\beta \\sin{\\left(\\theta \\right)} + A_{2} \\omega_{0} \\cos{\\left(\\theta \\right)}\\right)^{2}}}{2 \\left(A_{1} + A_{2} \\sin{\\left(\\theta \\right)}\\right)}\\right) \\left(s + \\frac{2 A_{1} \\beta + A_{2} \\alpha \\sin{\\left(\\theta \\right)} + A_{2} \\beta \\sin{\\left(\\theta \\right)} + A_{2} \\omega_{0} \\cos{\\left(\\theta \\right)}}{2 A_{1} + 2 A_{2} \\sin{\\left(\\theta \\right)}} + \\frac{\\sqrt{- 4 \\left(A_{1} + A_{2} \\sin{\\left(\\theta \\right)}\\right) \\left(A_{1} \\beta^{2} + A_{1} \\omega_{0}^{2} + A_{2} \\alpha \\beta \\sin{\\left(\\theta \\right)} + A_{2} \\alpha \\omega_{0} \\cos{\\left(\\theta \\right)}\\right) + \\left(2 A_{1} \\beta + A_{2} \\alpha \\sin{\\left(\\theta \\right)} + A_{2} \\beta \\sin{\\left(\\theta \\right)} + A_{2} \\omega_{0} \\cos{\\left(\\theta \\right)}\\right)^{2}}}{2 \\left(A_{1} + A_{2} \\sin{\\left(\\theta \\right)}\\right)}\\right)}{\\left(\\alpha + s\\right) \\left(\\beta - \\mathrm{j} \\omega_{0} + s\\right) \\left(\\beta + \\mathrm{j} \\omega_{0} + s\\right)}$"
      ],
      "text/plain": [
       "                 ⎛                                                           _\n",
       "                 ⎜                                                          ╱ \n",
       "                 ⎜    2⋅A₁⋅β + A₂⋅α⋅sin(θ) + A₂⋅β⋅sin(θ) + A₂⋅ω₀⋅cos(θ)   ╲╱  \n",
       "(A₁ + A₂⋅sin(θ))⋅⎜s + ───────────────────────────────────────────────── - ────\n",
       "                 ⎝                    2⋅A₁ + 2⋅A₂⋅sin(θ)                      \n",
       "──────────────────────────────────────────────────────────────────────────────\n",
       "                                                                              \n",
       "\n",
       "______________________________________________________________________________\n",
       "                     ⎛    2        2                                 ⎞        \n",
       "- 4⋅(A₁ + A₂⋅sin(θ))⋅⎝A₁⋅β  + A₁⋅ω₀  + A₂⋅α⋅β⋅sin(θ) + A₂⋅α⋅ω₀⋅cos(θ)⎠ + (2⋅A₁\n",
       "──────────────────────────────────────────────────────────────────────────────\n",
       "                                                    2⋅(A₁ + A₂⋅sin(θ))        \n",
       "──────────────────────────────────────────────────────────────────────────────\n",
       "                                                                              \n",
       "\n",
       "________________________________________________⎞ ⎛                           \n",
       "                                              2 ⎟ ⎜                           \n",
       "⋅β + A₂⋅α⋅sin(θ) + A₂⋅β⋅sin(θ) + A₂⋅ω₀⋅cos(θ))  ⎟ ⎜    2⋅A₁⋅β + A₂⋅α⋅sin(θ) + \n",
       "────────────────────────────────────────────────⎟⋅⎜s + ───────────────────────\n",
       "                                                ⎠ ⎝                    2⋅A₁ + \n",
       "──────────────────────────────────────────────────────────────────────────────\n",
       "                      (α + s)⋅(β - ⅉ⋅ω₀ + s)⋅(β + ⅉ⋅ω₀ + s)                   \n",
       "\n",
       "                                ______________________________________________\n",
       "                               ╱                      ⎛    2        2         \n",
       "A₂⋅β⋅sin(θ) + A₂⋅ω₀⋅cos(θ)   ╲╱  - 4⋅(A₁ + A₂⋅sin(θ))⋅⎝A₁⋅β  + A₁⋅ω₀  + A₂⋅α⋅β\n",
       "────────────────────────── + ─────────────────────────────────────────────────\n",
       "2⋅A₂⋅sin(θ)                                                                   \n",
       "──────────────────────────────────────────────────────────────────────────────\n",
       "                                                                              \n",
       "\n",
       "______________________________________________________________________________\n",
       "                        ⎞                                                     \n",
       "⋅sin(θ) + A₂⋅α⋅ω₀⋅cos(θ)⎠ + (2⋅A₁⋅β + A₂⋅α⋅sin(θ) + A₂⋅β⋅sin(θ) + A₂⋅ω₀⋅cos(θ)\n",
       "──────────────────────────────────────────────────────────────────────────────\n",
       "       2⋅(A₁ + A₂⋅sin(θ))                                                     \n",
       "──────────────────────────────────────────────────────────────────────────────\n",
       "                                                                              \n",
       "\n",
       "___⎞\n",
       " 2 ⎟\n",
       ")  ⎟\n",
       "───⎟\n",
       "   ⎠\n",
       "────\n",
       "    "
      ]
     },
     "execution_count": 6,
     "metadata": {},
     "output_type": "execute_result"
    }
   ],
   "source": [
    "D = Xs.ZPK()\n",
    "D.expr"
   ]
  }
 ],
 "metadata": {
  "kernelspec": {
   "display_name": "Python 3",
   "language": "python",
   "name": "python3"
  },
  "language_info": {
   "codemirror_mode": {
    "name": "ipython",
    "version": 3
   },
   "file_extension": ".py",
   "mimetype": "text/x-python",
   "name": "python",
   "nbconvert_exporter": "python",
   "pygments_lexer": "ipython3",
   "version": "3.8.10"
  }
 },
 "nbformat": 4,
 "nbformat_minor": 4
}
