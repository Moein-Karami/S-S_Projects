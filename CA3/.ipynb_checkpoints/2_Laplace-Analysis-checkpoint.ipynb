{
 "cells": [
  {
   "cell_type": "markdown",
   "metadata": {},
   "source": [
    "# سوال۲)\n",
    "## Laplace Analysi"
   ]
  },
  {
   "cell_type": "code",
   "execution_count": 1,
   "metadata": {},
   "outputs": [],
   "source": [
    "from lcapy import *"
   ]
  },
  {
   "cell_type": "markdown",
   "metadata": {},
   "source": [
    "### الف)"
   ]
  },
  {
   "cell_type": "code",
   "execution_count": 2,
   "metadata": {},
   "outputs": [],
   "source": [
    "a = Circuit(\"\"\"\n",
    "P1 1 0; down=1.5, v=v_i(t)\n",
    "R1 1 2; right=1.5\n",
    "L 2 3;\n",
    "W 3 4;\n",
    "R2 3 0_2;\n",
    "C 4 0_3;\n",
    "W 0 0_2; right\n",
    "W 0_2 0_3; right\n",
    "P2 4 0_3; down, v^=v_o(t)\"\"\")\n"
   ]
  },
  {
   "cell_type": "markdown",
   "metadata": {},
   "source": [
    "## ب)"
   ]
  },
  {
   "cell_type": "code",
   "execution_count": 3,
   "metadata": {},
   "outputs": [
    {
     "data": {
      "image/png": "[encoded data removed]",
      "text/latex": [
       "$\\displaystyle \\frac{R_{2} \\left(e^{\\frac{t \\sqrt{C^{2} R_{1}^{2} R_{2}^{2} - 2 C L R_{1} R_{2} - 4 C L R_{2}^{2} + L^{2}}}{C L R_{2}}} - 1\\right) e^{- \\frac{t \\left(\\frac{R_{1}}{L} + \\frac{1}{C R_{2}} + \\frac{\\sqrt{C^{2} R_{1}^{2} R_{2}^{2} - 2 C L R_{1} R_{2} - 4 C L R_{2}^{2} + L^{2}}}{C L R_{2}}\\right)}{2}} u\\left(t\\right)}{\\sqrt{C^{2} R_{1}^{2} R_{2}^{2} - 2 C L R_{1} R_{2} - 4 C L R_{2}^{2} + L^{2}}}$"
      ],
      "text/plain": [
       "                                                               ⎛              \n",
       "                                                               ⎜              \n",
       "   ⎛      ___________________________________________    ⎞     ⎜R₁    1     ╲╱\n",
       "   ⎜     ╱  2   2   2                         2    2     ⎟  -t⋅⎜── + ──── + ──\n",
       "   ⎜ t⋅╲╱  C ⋅R₁ ⋅R₂  - 2⋅C⋅L⋅R₁⋅R₂ - 4⋅C⋅L⋅R₂  + L      ⎟     ⎝L    C⋅R₂     \n",
       "   ⎜ ────────────────────────────────────────────────    ⎟  ──────────────────\n",
       "   ⎜                      C⋅L⋅R₂                         ⎟                    \n",
       "R₂⋅⎝ℯ                                                 - 1⎠⋅ℯ                  \n",
       "──────────────────────────────────────────────────────────────────────────────\n",
       "                                             _________________________________\n",
       "                                            ╱  2   2   2                      \n",
       "                                          ╲╱  C ⋅R₁ ⋅R₂  - 2⋅C⋅L⋅R₁⋅R₂ - 4⋅C⋅L\n",
       "\n",
       " ___________________________________________⎞      \n",
       "╱  2   2   2                         2    2 ⎟      \n",
       "  C ⋅R₁ ⋅R₂  - 2⋅C⋅L⋅R₁⋅R₂ - 4⋅C⋅L⋅R₂  + L  ⎟      \n",
       "────────────────────────────────────────────⎟      \n",
       "                  C⋅L⋅R₂                    ⎠      \n",
       "──────────────────────────────────────────────     \n",
       "             2                                     \n",
       "                                              ⋅u(t)\n",
       "───────────────────────────────────────────────────\n",
       "__________                                         \n",
       "   2    2                                          \n",
       "⋅R₂  + L                                           "
      ]
     },
     "execution_count": 3,
     "metadata": {},
     "output_type": "execute_result"
    }
   ],
   "source": [
    "H = a.P1.transfer('P2')\n",
    "H(t).simplify().expr"
   ]
  },
  {
   "cell_type": "markdown",
   "metadata": {},
   "source": [
    "### ج)\n"
   ]
  },
  {
   "cell_type": "code",
   "execution_count": 4,
   "metadata": {},
   "outputs": [
    {
     "data": {
      "image/png": "[encoded data removed]",
      "text/latex": [
       "$\\displaystyle \\frac{\\frac{1}{C} \\frac{1}{L}}{\\left(s + \\frac{C R_{1} R_{2} + L}{2 C L R_{2}} - \\frac{\\sqrt{C^{2} R_{1}^{2} R_{2}^{2} - 2 C L R_{1} R_{2} - 4 C L R_{2}^{2} + L^{2}}}{2 C L R_{2}}\\right) \\left(s + \\frac{C R_{1} R_{2} + L}{2 C L R_{2}} + \\frac{\\sqrt{C^{2} R_{1}^{2} R_{2}^{2} - 2 C L R_{1} R_{2} - 4 C L R_{2}^{2} + L^{2}}}{2 C L R_{2}}\\right)}$"
      ],
      "text/plain": [
       "                                                                ⎛ 1 ⎞         \n",
       "                                                                ⎜───⎟         \n",
       "                                                                ⎝C⋅L⎠         \n",
       "──────────────────────────────────────────────────────────────────────────────\n",
       "⎛                     ___________________________________________⎞ ⎛          \n",
       "⎜                    ╱  2   2   2                         2    2 ⎟ ⎜          \n",
       "⎜    C⋅R₁⋅R₂ + L   ╲╱  C ⋅R₁ ⋅R₂  - 2⋅C⋅L⋅R₁⋅R₂ - 4⋅C⋅L⋅R₂  + L  ⎟ ⎜    C⋅R₁⋅R\n",
       "⎜s + ─────────── - ──────────────────────────────────────────────⎟⋅⎜s + ──────\n",
       "⎝      2⋅C⋅L⋅R₂                       2⋅C⋅L⋅R₂                   ⎠ ⎝      2⋅C⋅\n",
       "\n",
       "                                                       \n",
       "                                                       \n",
       "                                                       \n",
       "───────────────────────────────────────────────────────\n",
       "           ___________________________________________⎞\n",
       "          ╱  2   2   2                         2    2 ⎟\n",
       "₂ + L   ╲╱  C ⋅R₁ ⋅R₂  - 2⋅C⋅L⋅R₁⋅R₂ - 4⋅C⋅L⋅R₂  + L  ⎟\n",
       "───── + ──────────────────────────────────────────────⎟\n",
       "L⋅R₂                       2⋅C⋅L⋅R₂                   ⎠"
      ]
     },
     "execution_count": 4,
     "metadata": {},
     "output_type": "execute_result"
    }
   ],
   "source": [
    "H.ZPK().expr"
   ]
  },
  {
   "cell_type": "code",
   "execution_count": 5,
   "metadata": {},
   "outputs": [
    {
     "data": {
      "image/png": "[encoded data removed]",
      "text/latex": [
       "$\\displaystyle \\frac{2 C L R_{2}^{2} \\left(\\left(- C R_{1} R_{2} - L + \\sqrt{C^{2} R_{1}^{2} R_{2}^{2} - 2 C L R_{1} R_{2} - 4 C L R_{2}^{2} + L^{2}}\\right) \\left(C R_{1} R_{2} + L + \\sqrt{C^{2} R_{1}^{2} R_{2}^{2} - 2 C L R_{1} R_{2} - 4 C L R_{2}^{2} + L^{2}}\\right) \\sqrt{C^{2} R_{1}^{2} R_{2}^{2} - 2 C L R_{1} R_{2} - 4 C L R_{2}^{2} + L^{2}} e^{\\frac{t \\left(C R_{1} R_{2} + L + \\sqrt{C^{2} R_{1}^{2} R_{2}^{2} - 2 C L R_{1} R_{2} - 4 C L R_{2}^{2} + L^{2}}\\right)}{2 C L R_{2}}} + \\left(C R_{1} R_{2} + L - \\sqrt{C^{2} R_{1}^{2} R_{2}^{2} - 2 C L R_{1} R_{2} - 4 C L R_{2}^{2} + L^{2}}\\right)^{2} \\sqrt{C^{2} R_{1}^{2} R_{2}^{2} - 2 C L R_{1} R_{2} - 4 C L R_{2}^{2} + L^{2}} e^{\\frac{t \\left(C R_{1} R_{2} + L - \\sqrt{C^{2} R_{1}^{2} R_{2}^{2} - 2 C L R_{1} R_{2} - 4 C L R_{2}^{2} + L^{2}}\\right)}{2 C L R_{2}}} + 2 \\left(C R_{1} R_{2} + L - \\sqrt{C^{2} R_{1}^{2} R_{2}^{2} - 2 C L R_{1} R_{2} - 4 C L R_{2}^{2} + L^{2}}\\right) \\left(C^{2} R_{1}^{2} R_{2}^{2} - 2 C L R_{1} R_{2} - 4 C L R_{2}^{2} + L^{2}\\right) e^{\\frac{t \\left(C R_{1} R_{2} + L\\right)}{C L R_{2}}}\\right) e^{- \\frac{t \\left(C R_{1} R_{2} + L\\right)}{C L R_{2}}} u\\left(t\\right)}{\\left(C R_{1} R_{2} + L - \\sqrt{C^{2} R_{1}^{2} R_{2}^{2} - 2 C L R_{1} R_{2} - 4 C L R_{2}^{2} + L^{2}}\\right)^{2} \\left(C R_{1} R_{2} + L + \\sqrt{C^{2} R_{1}^{2} R_{2}^{2} - 2 C L R_{1} R_{2} - 4 C L R_{2}^{2} + L^{2}}\\right) \\left(C^{2} R_{1}^{2} R_{2}^{2} - 2 C L R_{1} R_{2} - 4 C L R_{2}^{2} + L^{2}\\right)}$"
      ],
      "text/plain": [
       "          ⎛                                                                   \n",
       "          ⎜                                                                   \n",
       "          ⎜                                                                   \n",
       "          ⎜⎛                  ___________________________________________⎞ ⎛  \n",
       "        2 ⎜⎜                 ╱  2   2   2                         2    2 ⎟ ⎜  \n",
       "2⋅C⋅L⋅R₂ ⋅⎝⎝-C⋅R₁⋅R₂ - L + ╲╱  C ⋅R₁ ⋅R₂  - 2⋅C⋅L⋅R₁⋅R₂ - 4⋅C⋅L⋅R₂  + L  ⎠⋅⎝C⋅\n",
       "──────────────────────────────────────────────────────────────────────────────\n",
       "                                                                              \n",
       "                                                                              \n",
       "                                                                              \n",
       "                                                                              \n",
       "\n",
       "                                                                              \n",
       "                                                                              \n",
       "                                                                              \n",
       "               ___________________________________________⎞    _______________\n",
       "              ╱  2   2   2                         2    2 ⎟   ╱  2   2   2    \n",
       "R₁⋅R₂ + L + ╲╱  C ⋅R₁ ⋅R₂  - 2⋅C⋅L⋅R₁⋅R₂ - 4⋅C⋅L⋅R₂  + L  ⎠⋅╲╱  C ⋅R₁ ⋅R₂  - 2\n",
       "──────────────────────────────────────────────────────────────────────────────\n",
       "                                                                              \n",
       "                                                                              \n",
       "                                                                              \n",
       "                                                                              \n",
       "\n",
       "                                ⎛                 ____________________________\n",
       "                                ⎜                ╱  2   2   2                 \n",
       "                              t⋅⎝C⋅R₁⋅R₂ + L + ╲╱  C ⋅R₁ ⋅R₂  - 2⋅C⋅L⋅R₁⋅R₂ - \n",
       "____________________________  ────────────────────────────────────────────────\n",
       "                     2    2                               2⋅C⋅L⋅R₂            \n",
       "⋅C⋅L⋅R₁⋅R₂ - 4⋅C⋅L⋅R₂  + L  ⋅ℯ                                                \n",
       "──────────────────────────────────────────────────────────────────────────────\n",
       "                                                                              \n",
       "                                                  ⎛                 __________\n",
       "                                                  ⎜                ╱  2   2   \n",
       "                                                  ⎝C⋅R₁⋅R₂ + L - ╲╱  C ⋅R₁ ⋅R₂\n",
       "\n",
       "_______________⎞                                                              \n",
       "        2    2 ⎟                                                              \n",
       "4⋅C⋅L⋅R₂  + L  ⎠                                                              \n",
       "────────────────   ⎛                 _________________________________________\n",
       "                   ⎜                ╱  2   2   2                         2    \n",
       "                 + ⎝C⋅R₁⋅R₂ + L - ╲╱  C ⋅R₁ ⋅R₂  - 2⋅C⋅L⋅R₁⋅R₂ - 4⋅C⋅L⋅R₂  + L\n",
       "──────────────────────────────────────────────────────────────────────────────\n",
       "                                  2                                           \n",
       "_________________________________⎞  ⎛                 ________________________\n",
       "2                         2    2 ⎟  ⎜                ╱  2   2   2             \n",
       "  - 2⋅C⋅L⋅R₁⋅R₂ - 4⋅C⋅L⋅R₂  + L  ⎠ ⋅⎝C⋅R₁⋅R₂ + L + ╲╱  C ⋅R₁ ⋅R₂  - 2⋅C⋅L⋅R₁⋅R\n",
       "\n",
       "                                                       ⎛                 _____\n",
       "                                                       ⎜                ╱  2  \n",
       "   2                                                 t⋅⎝C⋅R₁⋅R₂ + L - ╲╱  C ⋅R\n",
       "__⎞     ___________________________________________  ─────────────────────────\n",
       "2 ⎟    ╱  2   2   2                         2    2                            \n",
       "  ⎠ ⋅╲╱  C ⋅R₁ ⋅R₂  - 2⋅C⋅L⋅R₁⋅R₂ - 4⋅C⋅L⋅R₂  + L  ⋅ℯ                         \n",
       "──────────────────────────────────────────────────────────────────────────────\n",
       "                                                                              \n",
       "___________________⎞                                                          \n",
       "            2    2 ⎟ ⎛ 2   2   2                         2    2⎞              \n",
       "₂ - 4⋅C⋅L⋅R₂  + L  ⎠⋅⎝C ⋅R₁ ⋅R₂  - 2⋅C⋅L⋅R₁⋅R₂ - 4⋅C⋅L⋅R₂  + L ⎠              \n",
       "\n",
       "______________________________________⎞                                       \n",
       " 2   2                         2    2 ⎟                                       \n",
       "₁ ⋅R₂  - 2⋅C⋅L⋅R₁⋅R₂ - 4⋅C⋅L⋅R₂  + L  ⎠                                       \n",
       "───────────────────────────────────────     ⎛                 ________________\n",
       "   2⋅C⋅L⋅R₂                                 ⎜                ╱  2   2   2     \n",
       "                                        + 2⋅⎝C⋅R₁⋅R₂ + L - ╲╱  C ⋅R₁ ⋅R₂  - 2⋅\n",
       "──────────────────────────────────────────────────────────────────────────────\n",
       "                                                                              \n",
       "                                                                              \n",
       "                                                                              \n",
       "                                                                              \n",
       "\n",
       "                                                                              \n",
       "                                                                              \n",
       "                                                                          t⋅(C\n",
       "___________________________⎞                                              ────\n",
       "                    2    2 ⎟ ⎛ 2   2   2                         2    2⎞      \n",
       "C⋅L⋅R₁⋅R₂ - 4⋅C⋅L⋅R₂  + L  ⎠⋅⎝C ⋅R₁ ⋅R₂  - 2⋅C⋅L⋅R₁⋅R₂ - 4⋅C⋅L⋅R₂  + L ⎠⋅ℯ    \n",
       "──────────────────────────────────────────────────────────────────────────────\n",
       "                                                                              \n",
       "                                                                              \n",
       "                                                                              \n",
       "                                                                              \n",
       "\n",
       "           ⎞                        \n",
       "           ⎟                        \n",
       "⋅R₁⋅R₂ + L)⎟  -t⋅(C⋅R₁⋅R₂ + L)      \n",
       "───────────⎟  ─────────────────     \n",
       " C⋅L⋅R₂    ⎟        C⋅L⋅R₂          \n",
       "           ⎠⋅ℯ                 ⋅u(t)\n",
       "────────────────────────────────────\n",
       "                                    \n",
       "                                    \n",
       "                                    \n",
       "                                    "
      ]
     },
     "execution_count": 5,
     "metadata": {},
     "output_type": "execute_result"
    }
   ],
   "source": [
    "v_i = voltage(u(t))\n",
    "v_o = (v_i(s) * H)(t)\n",
    "v_o.simplify().expr"
   ]
  },
  {
   "cell_type": "markdown",
   "metadata": {},
   "source": [
    "### د)"
   ]
  },
  {
   "cell_type": "code",
   "execution_count": 6,
   "metadata": {},
   "outputs": [
    {
     "data": {
      "image/png": "[encoded data removed]",
      "text/latex": [
       "$\\displaystyle \\frac{\\left(479 e^{\\frac{31 t}{20}} - 31 \\sqrt{479} \\sin{\\left(\\frac{\\sqrt{479} t}{20} \\right)} - 479 \\cos{\\left(\\frac{\\sqrt{479} t}{20} \\right)}\\right) e^{- \\frac{31 t}{20}} u\\left(t\\right)}{1437}$"
      ],
      "text/plain": [
       "⎛     31⋅t                                        ⎞  -31⋅t      \n",
       "⎜     ────                                        ⎟  ──────     \n",
       "⎜      20               ⎛√479⋅t⎞          ⎛√479⋅t⎞⎟    20       \n",
       "⎜479⋅ℯ     - 31⋅√479⋅sin⎜──────⎟ - 479⋅cos⎜──────⎟⎟⋅ℯ      ⋅u(t)\n",
       "⎝                       ⎝  20  ⎠          ⎝  20  ⎠⎠             \n",
       "────────────────────────────────────────────────────────────────\n",
       "                              1437                              "
      ]
     },
     "execution_count": 6,
     "metadata": {},
     "output_type": "execute_result"
    }
   ],
   "source": [
    "a = Circuit(\"\"\"\n",
    "P1 1 0; down=1.5, v=v_i(t)\n",
    "R1 1 2 4; right=1.5\n",
    "L 2 3 {5/2};\n",
    "W 3 4;\n",
    "R2 3 0_2 2;\n",
    "C 4 0_3 {1/3};\n",
    "W 0 0_2; right\n",
    "W 0_2 0_3; right\n",
    "P2 4 0_3; down, v^=v_o(t)\"\"\")\n",
    "H = a.P1.transfer('P2')\n",
    "v_i = voltage(u(t))(t)\n",
    "v_o = (v_i(s) * H)(t)\n",
    "v_o.simplify().expr"
   ]
  },
  {
   "cell_type": "code",
   "execution_count": null,
   "metadata": {},
   "outputs": [],
   "source": [
    "from matplotlib.pyplot import savefig\n",
    "\n",
    "ax = v_i.plot((-1, 10), label='input voltage')\n",
    "ax = v_o.plot((-1, 10), axes=ax, label='Vc voltage')\n",
    "ax.set_title(\"Fig. 2,1,4: Circuite plot for voltage\")\n",
    "ax.legend()\n",
    "savefig('B_Figs/2_1_4.png')"
   ]
  },
  {
   "cell_type": "markdown",
   "metadata": {},
   "source": [
    "## Laplace Transform \n",
    "### الف)"
   ]
  },
  {
   "cell_type": "code",
   "execution_count": null,
   "metadata": {},
   "outputs": [],
   "source": [
    "f0 = symbol('f0')\n",
    "x = (3 - 2*f0) * delta(t) + ((f0**2)/2 +((f0**2)/2 - 6*f0 -2) * cos(2*t) + (3*(f0**2)/2 + 2*f0 - 6) * sin(2*t))*u(t) + delta(t)\n",
    "x(s).expr"
   ]
  },
  {
   "cell_type": "markdown",
   "metadata": {},
   "source": [
    "### ب)"
   ]
  },
  {
   "cell_type": "code",
   "execution_count": null,
   "metadata": {},
   "outputs": [],
   "source": [
    "X = x(s).subs({'f0' : 2})\n",
    "X.expr"
   ]
  },
  {
   "cell_type": "markdown",
   "metadata": {},
   "source": [
    "### ج)"
   ]
  },
  {
   "cell_type": "code",
   "execution_count": null,
   "metadata": {},
   "outputs": [],
   "source": [
    "ax = X.plot(title = 'Fig. 2,2,3: Holes and Poles')\n",
    "savefig('B_Figs/2_2_3.png')"
   ]
  }
 ],
 "metadata": {
  "kernelspec": {
   "display_name": "Python 3",
   "language": "python",
   "name": "python3"
  },
  "language_info": {
   "codemirror_mode": {
    "name": "ipython",
    "version": 3
   },
   "file_extension": ".py",
   "mimetype": "text/x-python",
   "name": "python",
   "nbconvert_exporter": "python",
   "pygments_lexer": "ipython3",
   "version": "3.8.10"
  }
 },
 "nbformat": 4,
 "nbformat_minor": 4
}
