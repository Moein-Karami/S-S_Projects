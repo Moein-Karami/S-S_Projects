{
 "cells": [
  {
   "cell_type": "code",
   "execution_count": 1,
   "metadata": {},
   "outputs": [],
   "source": [
    "from lcapy import *\n",
    "import numpy as np\n",
    "from matplotlib.pyplot import figure, savefig"
   ]
  },
  {
   "cell_type": "markdown",
   "metadata": {},
   "source": [
    "# سوال ۵)"
   ]
  },
  {
   "cell_type": "code",
   "execution_count": 2,
   "metadata": {},
   "outputs": [],
   "source": [
    "a = symbol('a')\n",
    "b = symbol('b')\n",
    "c = symbol('c')\n",
    "d = symbol('d')\n",
    "\n",
    "lpf = DLTIFilter((a, b, -d), (1, c))"
   ]
  },
  {
   "cell_type": "markdown",
   "metadata": {},
   "source": [
    "## الف)"
   ]
  },
  {
   "cell_type": "code",
   "execution_count": 3,
   "metadata": {},
   "outputs": [
    {
     "data": {
      "image/png": "[encoded data removed]",
      "text/latex": [
       "$\\displaystyle y(n) = a x(n) + b x(n - 1) - c y(n - 1) - d x(n - 2)$"
      ],
      "text/plain": [
       "y(n) = a⋅x(n) + b⋅x(n - 1) - c⋅y(n - 1) - d⋅x(n - 2)"
      ]
     },
     "execution_count": 3,
     "metadata": {},
     "output_type": "execute_result"
    }
   ],
   "source": [
    "LPF=lpf.difference_equation()\n",
    "LPF.expr"
   ]
  },
  {
   "cell_type": "markdown",
   "metadata": {},
   "source": [
    "## ب)"
   ]
  },
  {
   "cell_type": "code",
   "execution_count": 4,
   "metadata": {},
   "outputs": [
    {
     "data": {
      "image/png": "[encoded data removed]",
      "text/latex": [
       "$\\displaystyle \\frac{a z^{2} + b z - d}{z \\left(c + z\\right)}$"
      ],
      "text/plain": [
       "   2          \n",
       "a⋅z  + b⋅z - d\n",
       "──────────────\n",
       "  z⋅(c + z)   "
      ]
     },
     "execution_count": 4,
     "metadata": {},
     "output_type": "execute_result"
    }
   ],
   "source": [
    "LPF.transfer_function().expr"
   ]
  },
  {
   "cell_type": "markdown",
   "metadata": {},
   "source": [
    "## ج)"
   ]
  },
  {
   "cell_type": "code",
   "execution_count": 5,
   "metadata": {},
   "outputs": [
    {
     "data": {
      "text/latex": [
       "$\\displaystyle \\left(- c\\right)^{n} \\left(a - \\frac{b}{c} - \\frac{d}{c^{2}}\\right) - \\frac{d \\delta\\left[n - 1\\right]}{c} + \\frac{\\left(b c + d\\right) \\delta\\left[n\\right]}{c^{2}} \\;\\; \\text{for}\\: n \\geq 0$"
      ],
      "text/plain": [
       "    n ⎛    b   d ⎞   d⋅δ[n - 1]   (b⋅c + d)⋅δ[n]           \n",
       "(-c) ⋅⎜a - ─ - ──⎟ - ────────── + ──────────────  for n ≥ 0\n",
       "      ⎜    c    2⎟       c               2                 \n",
       "      ⎝        c ⎠                      c                  "
      ]
     },
     "execution_count": 5,
     "metadata": {},
     "output_type": "execute_result"
    }
   ],
   "source": [
    "LPF.transfer_function().IZT().expr"
   ]
  },
  {
   "cell_type": "markdown",
   "metadata": {},
   "source": [
    "## د)"
   ]
  },
  {
   "cell_type": "code",
   "execution_count": 9,
   "metadata": {},
   "outputs": [
    {
     "data": {
      "image/png": "[encoded data removed]",
      "text/latex": [
       "$\\displaystyle y(n) = x(n) + x(n - 1) - 2 y(n - 2) + 3 y(n - 1)$"
      ],
      "text/plain": [
       "y(n) = x(n) + x(n - 1) - 2⋅y(n - 2) + 3⋅y(n - 1)"
      ]
     },
     "execution_count": 9,
     "metadata": {},
     "output_type": "execute_result"
    }
   ],
   "source": [
    "de = DifferenceEquation('y(n)', 'x(n) + x(n-1) + 3*y(n-1) - 2*y(n - 2)')\n",
    "de.expr"
   ]
  },
  {
   "cell_type": "markdown",
   "metadata": {},
   "source": [
    "## ه)"
   ]
  },
  {
   "cell_type": "code",
   "execution_count": 7,
   "metadata": {},
   "outputs": [
    {
     "data": {
      "image/png": "[encoded data removed]",
      "text/latex": [
       "$\\displaystyle y(n) = x(n) + x(n - 1) - 2 y(n - 2) + 3 y(n - 1)$"
      ],
      "text/plain": [
       "y(n) = x(n) + x(n - 1) - 2⋅y(n - 2) + 3⋅y(n - 1)"
      ]
     },
     "execution_count": 7,
     "metadata": {},
     "output_type": "execute_result"
    }
   ],
   "source": [
    "DE = de.transfer_function()\n",
    "DE.difference_equation('x', 'y', 'iir').expr"
   ]
  },
  {
   "cell_type": "markdown",
   "metadata": {},
   "source": [
    "## و)"
   ]
  },
  {
   "cell_type": "code",
   "execution_count": 8,
   "metadata": {},
   "outputs": [
    {
     "data": {
      "text/latex": [
       "$$\\left\\{\\underline{0}, 3, 15, 51\\right\\}$$"
      ],
      "text/plain": [
       "{_0, 3, 15, 51}"
      ]
     },
     "execution_count": 8,
     "metadata": {},
     "output_type": "execute_result"
    }
   ],
   "source": [
    "fil = de.dlti_filter()\n",
    "x = 2**n\n",
    "fil.response(x, ni=(1, 3))"
   ]
  }
 ],
 "metadata": {
  "kernelspec": {
   "display_name": "Python 3",
   "language": "python",
   "name": "python3"
  },
  "language_info": {
   "codemirror_mode": {
    "name": "ipython",
    "version": 3
   },
   "file_extension": ".py",
   "mimetype": "text/x-python",
   "name": "python",
   "nbconvert_exporter": "python",
   "pygments_lexer": "ipython3",
   "version": "3.8.10"
  }
 },
 "nbformat": 4,
 "nbformat_minor": 4
}
